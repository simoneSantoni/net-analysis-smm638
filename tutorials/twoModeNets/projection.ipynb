{
  "cells": [
    {
      "cell_type": "markdown",
      "metadata": {},
      "source": [
        "# Manipulating Two-Mode (Bipartite) Networks\n",
        "\n",
        "Simone Santoni  \n",
        "2024-11-26\n",
        "\n",
        "This notebook shows how to read and transforms a two-mode network (e.g.,\n",
        "a person-to-team affiliation network) into two one-mode networks (a\n",
        "person-person network - in which individuals are connected when they\n",
        "belong to the same team - and team-team network - in which individuals\n",
        "are connected when they share at least a member)\n",
        "\n",
        "# Notebook setup\n",
        "\n",
        "We are using `NumPy` for data simulation, `NetworkX` for network\n",
        "manipulation, and `Pandas` for data wrangling."
      ],
      "id": "f1588134-60fa-48d0-94a5-91401c9415bc"
    },
    {
      "cell_type": "code",
      "execution_count": 1,
      "metadata": {},
      "outputs": [],
      "source": [
        "import os\n",
        "import matplotlib.pyplot as plt\n",
        "import numpy as np\n",
        "import networkx as nx\n",
        "from networkx.algorithms import bipartite as bp\n",
        "import pandas as pd"
      ],
      "id": "37c13758"
    },
    {
      "cell_type": "markdown",
      "metadata": {},
      "source": [
        "# Fake data\n",
        "\n",
        "We simulate an incidence matrix with 100 mode-1/bottom nodes (e.g.,\n",
        "individuals) and 10 mode-2/top nodes (e.g., products)."
      ],
      "id": "29e80f4e-8773-4e99-af57-543197aeff4b"
    },
    {
      "cell_type": "code",
      "execution_count": 2,
      "metadata": {},
      "outputs": [],
      "source": [
        "# numpy simulation\n",
        "n, k = 100, 10\n",
        "bottom_nodes = np.arange(0, n)\n",
        "top_nodes = np.arange(n, n+k)\n",
        "edges = []\n",
        "for i in bottom_nodes:\n",
        "    # random number of ties from a poisson distribution\n",
        "    degree = np.random.poisson(lam=3, size=1)\n",
        "    # alters\n",
        "    alters = np.random.choice(top_nodes, size=degree)\n",
        "    # add edges\n",
        "    for alter in alters:\n",
        "        edges.append((i, alter))"
      ],
      "id": "986f82aa"
    },
    {
      "cell_type": "markdown",
      "metadata": {},
      "source": [
        "# Graph creation\n",
        "\n",
        "We initialize a graph object and add nodes and edges as per the\n",
        "simulated incidence matrix. As you can see from the below-displayed\n",
        "graph, we pass the nodes in two chunks, one for each mode. Specifically,\n",
        "we distinguish between mode-1/bottom nodes and mode-2/top nodes by\n",
        "setting the `bipartite` attribute to 0 and 1, respectively. Then, we\n",
        "check whether the graph is bipartite, i.e., there are no edges\n",
        "connecting nodes of the same mode."
      ],
      "id": "d178aef5-cd3c-45b9-b68d-b0abe333b570"
    },
    {
      "cell_type": "code",
      "execution_count": 3,
      "metadata": {},
      "outputs": [],
      "source": [
        "# empty graph\n",
        "bg = nx.Graph()\n",
        "# add nodes\n",
        "bg.add_nodes_from(bottom_nodes, bipartite=0)\n",
        "bg.add_nodes_from(top_nodes, bipartite=1)\n",
        "# get nx object\n",
        "bg.add_edges_from(edges)\n",
        "# `is bipartite` check\n",
        "is_bip = nx.is_bipartite(bg)"
      ],
      "id": "ad1c54b2"
    },
    {
      "cell_type": "markdown",
      "metadata": {},
      "source": [
        "# Getting network projections\n",
        "\n",
        "To get the projections of a bipartite network $X$ ($N$ x $K$) means to\n",
        "compute the following:\n",
        "\n",
        "$$\n",
        "Y = X \\times X^T\n",
        "$$\n",
        "\n",
        "and\n",
        "\n",
        "$$\n",
        "Z = X^T \\times X\n",
        "$$\n",
        "\n",
        "where $Y$ is the $N$ x $N$ matrix of the mode-1 nodes and $Z$ is the $K$\n",
        "x $K$ matrix of the mode-2 nodes. The projections are weighted if the\n",
        "edges of the bipartite network are weighted. In this case, the weights\n",
        "are the number of shared neighbors between two nodes. Let us see how to\n",
        "get the projections of the bipartite network we have just created with\n",
        "`NetworkX`.\n",
        "\n",
        "## Unweighted projections of the two-mode networks\n",
        "\n",
        "The unweighted projected graph is the projection of the bipartite\n",
        "network `bg` onto the specified nodes. The nodes retain their attributes\n",
        "and are connected in the resulting graph if they have an edge to a\n",
        "common node in the original graph."
      ],
      "id": "36ca815e-9fe1-42f5-a2a8-1d556bee3975"
    },
    {
      "cell_type": "code",
      "execution_count": 4,
      "metadata": {},
      "outputs": [],
      "source": [
        "g_b = bp.projected_graph(bg, bottom_nodes)\n",
        "g_t = bp.projected_graph(bg, top_nodes)"
      ],
      "id": "93eab7ac"
    },
    {
      "cell_type": "markdown",
      "metadata": {},
      "source": [
        "<a href=\"#fig-unweighted-projections\" class=\"quarto-xref\">Figure 1</a>\n",
        "reports both $X$’s projections, $Y$ (panel A) and $Z$ (panel B)."
      ],
      "id": "a8101684-83d9-4ee6-939b-0a01769a2f01"
    },
    {
      "cell_type": "code",
      "execution_count": 5,
      "metadata": {
        "fig-width": 500
      },
      "outputs": [
        {
          "output_type": "display_data",
          "metadata": {},
          "data": {}
        }
      ],
      "source": [
        "fig = plt.figure()\n",
        "# bottom nodes network\n",
        "cc = max(nx.connected_components(g_b), key=len)\n",
        "# filter in the nodes in the largest connected component\n",
        "g_b = g_b.subgraph(cc)\n",
        "ax0 = fig.add_subplot(121)\n",
        "pos = nx.spring_layout(g_b)\n",
        "nx.draw(g_b, with_labels=False, node_color='plum', node_size=30, ax=ax0)\n",
        "ax0.text(-0.7, 1, 'A', fontsize=12, ha='center')\n",
        "# top nodes network\n",
        "ax1 = fig.add_subplot(122)\n",
        "nx.draw(g_t, with_labels=False, node_color='lightgreen', node_size=30, ax=ax1)\n",
        "ax1.text(1, 1, 'B', fontsize=12, ha='center')\n",
        "# show plot\n",
        "plt.show()"
      ],
      "id": "cell-fig-unweighted-projections"
    },
    {
      "cell_type": "markdown",
      "metadata": {},
      "source": [
        "## Weighted projections of the two-mode networks\n",
        "\n",
        "The weighted projected graph is the projection of the bipartite network\n",
        "`bg` onto the specified nodes with weights representing the number of\n",
        "shared neighbors or the ratio between actual shared neighbors and\n",
        "possible shared neighbors if ratio is True. The nodes retain their\n",
        "attributes and are connected in the resulting graph if they have an edge\n",
        "to a common node in the original graph."
      ],
      "id": "5520cbd5-9f88-409f-a455-b6ee08b09239"
    },
    {
      "cell_type": "code",
      "execution_count": 6,
      "metadata": {},
      "outputs": [],
      "source": [
        "g_b_w = bp.weighted_projected_graph(bg, bottom_nodes, ratio=True)\n",
        "g_t_w = bp.weighted_projected_graph(bg, top_nodes, ratio=True)"
      ],
      "id": "472a1463"
    },
    {
      "cell_type": "markdown",
      "metadata": {},
      "source": [
        "<a href=\"#fig-weighted-projections\" class=\"quarto-xref\">Figure 2</a>\n",
        "reports both $X$’s projections, $Y$ (panel A) and $Z$ (panel B)."
      ],
      "id": "e57eaac3-8940-410c-932f-9932b4f16310"
    },
    {
      "cell_type": "code",
      "execution_count": 7,
      "metadata": {
        "fig-width": 500
      },
      "outputs": [
        {
          "output_type": "display_data",
          "metadata": {},
          "data": {}
        }
      ],
      "source": [
        "fig = plt.figure()\n",
        "# bottom nodes network\n",
        "cc = max(nx.connected_components(g_b_w), key=len)\n",
        "# filter in the nodes in the largest connected component\n",
        "g_b_w = g_b_w.subgraph(cc)\n",
        "ax0 = fig.add_subplot(121)\n",
        "pos = nx.spring_layout(g_b_w)\n",
        "## draw the graph color coding the edges by weight\n",
        "edges = g_b_w.edges(data=True)\n",
        "weights = [w[\"weight\"] for u, v, w in edges]\n",
        "nx.draw(\n",
        "    g_b_w,\n",
        "    with_labels=False,\n",
        "    node_color=\"plum\",\n",
        "    node_size=30,\n",
        "    edge_color=weights,\n",
        "    edge_cmap=plt.cm.Purples,\n",
        "    ax=ax0,\n",
        ")\n",
        "ax0.text(-0.7, 1, \"A\", fontsize=12, ha=\"center\")\n",
        "# top nodes network\n",
        "ax1 = fig.add_subplot(122)\n",
        "## draw the graph color coding the edges by weight\n",
        "edges = g_t_w.edges(data=True)\n",
        "weights = [w[\"weight\"] for u, v, w in edges]\n",
        "nx.draw(\n",
        "    g_t_w,\n",
        "    with_labels=False,\n",
        "    node_color=\"lightgreen\",\n",
        "    node_size=30,\n",
        "    edge_color=weights,\n",
        "    edge_cmap=plt.cm.Greens,\n",
        "    ax=ax1,\n",
        ")\n",
        "ax1.text(1, 1, \"B\", fontsize=12, ha=\"center\")\n",
        "# show plot\n",
        "plt.show()"
      ],
      "id": "cell-fig-weighted-projections"
    },
    {
      "cell_type": "markdown",
      "metadata": {},
      "source": [
        "# Writing projections to files\n",
        "\n",
        "Finally, we write the projections to files."
      ],
      "id": "4accc7c8-c084-4678-baba-42bd486109d1"
    },
    {
      "cell_type": "code",
      "execution_count": 8,
      "metadata": {},
      "outputs": [],
      "source": [
        "path = 'data'\n",
        "f0 = 'event_event_graph.csv'\n",
        "nx.write_edgelist(g_t, open(os.path.join(\".\", f0), 'wb'))\n",
        "f1 = 'user_user_graph.csv'\n",
        "nx.write_edgelist(g_t_w, open(os.path.join(\".\", f1), 'wb'))\n",
        "f2 = 'event_event_weighted_graph.csv'\n",
        "nx.write_weighted_edgelist(g_b, open(os.path.join(\".\", f2), 'wb'))\n",
        "f3 = 'user_user_weighted_graph.csv'\n",
        "nx.write_weighted_edgelist(g_b_w, open(os.path.join(\".\", f3), 'wb'))\n",
        "f4 =  'bipartite_graph.csv'\n",
        "nx.write_edgelist(bg, open(os.path.join(\".\", f4), 'wb'))"
      ],
      "id": "d60fedca"
    }
  ],
  "nbformat": 4,
  "nbformat_minor": 5,
  "metadata": {
    "kernelspec": {
      "name": "python3",
      "display_name": "Python 3 (ipykernel)",
      "language": "python",
      "path": "/home/simone/miniconda3/envs/smm638/share/jupyter/kernels/python3"
    }
  }
}