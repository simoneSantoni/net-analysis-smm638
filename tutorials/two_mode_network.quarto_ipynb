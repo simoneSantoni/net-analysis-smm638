{
  "cells": [
    {
      "cell_type": "markdown",
      "metadata": {},
      "source": [
        "---\n",
        "# paper demographics\n",
        "date-modified: last-modified\n",
        "title: SMM638 ― week 4 tutorial on 2-mode networks\n",
        "author:\n",
        "  - name: Simone Santoni\n",
        "    affiliation:\n",
        "      name: Bayes Business School\n",
        "      address: 106 Bunhill Row, EC1Y 8TZ, London, United Kingdom\n",
        "    corresponding: true\n",
        "    email: simone.santoni.1@city.ac.uk\n",
        "    orcid: 0000-0002-5928-3901\n",
        "# metadata\n",
        "keywords: k1, k2\n",
        "subject: AI\n",
        "title-meta: meta\n",
        "author-meta: Simone \n",
        "date-meta: 15/10/2024\n",
        "# abstract\n",
        "abstract-title: Abstract\n",
        "abstract:  This notebook achieves X, Y, and Z.\n",
        "# format of choice\n",
        "format:\n",
        "  # ** TeX **\n",
        "  #latex:\n",
        "  # ** PDF **\n",
        "  #pdf:\n",
        "  #  # engine\n",
        "  #  pdf-engine: pdflatex\n",
        "  #  # page layout\n",
        "  #  documentclass: article\n",
        "  #  papersize: letter\n",
        "  #  geometry:\n",
        "  #    - top=2.54cm\n",
        "  #    - right=2.54cm\n",
        "  #    - bottom=2.54cm\n",
        "  #    - left=2.54cm\n",
        "  #  # style\n",
        "  #  linestretch: 2\n",
        "  #  indent: true\n",
        "  #  # sections\n",
        "  #  number-sections: true\n",
        "  #  number-depth: 3\n",
        "  #  toc: false\n",
        "  #  # fonts\n",
        "  #  fonts:\n",
        "  #    fontenc: true\n",
        "  #    fontsize: 12\n",
        "  #    #mainfont:TeX Gyre Pagella\n",
        "  #    #mainfontoptions:\n",
        "  #    #  - Numbers=Lowercase\n",
        "  #    #  - Numbers=Proportional\n",
        "  #  # colors\n",
        "  #  colors:\n",
        "  #    linkcolor: blue\n",
        "  #    filecolor: red\n",
        "  #    citecolor: green\n",
        "  #    urlcolor: magenta\n",
        "  #    #colorlinks: true\n",
        "  #  # captions\n",
        "  #  fig-cap-location: bottom\n",
        "  #  tbl-cap-location: top\n",
        "  #  # footnotes\n",
        "  #  links-as-notes: true\n",
        "  #  reference-location: document\n",
        "  # ** HTML FORMAT **\n",
        "  html:\n",
        "    code-fold: true\n",
        "# code execution\n",
        "execute:\n",
        "  evaluate: false\n",
        "#bibliography: referencees.bib\n",
        "---\n",
        "\n",
        "\n",
        "## Table of contents\n",
        "\n",
        "\n",
        "## Notebook setup\n"
      ],
      "id": "35e6a30a"
    },
    {
      "cell_type": "code",
      "metadata": {},
      "source": [
        "import os\n",
        "import json\n",
        "import numpy as np\n",
        "import scipy as sp\n",
        "import matplotlib.pyplot as plt\n",
        "import pandas as pd\n",
        "import networkx as nx"
      ],
      "id": "a8a01c7b",
      "execution_count": null,
      "outputs": []
    },
    {
      "cell_type": "markdown",
      "metadata": {},
      "source": [
        "## Data setup\n",
        "\n",
        "### Ingest data\n"
      ],
      "id": "4acccb34"
    },
    {
      "cell_type": "code",
      "metadata": {},
      "source": [
        "os.getcwd()\n",
        "os.chdir(\"data/deezer_clean_data\")\n",
        "\n",
        "with open(\"HR_genres.json\", \"r\") as pipe:\n",
        "  data = json.load(pipe)"
      ],
      "id": "e1ed8ac6",
      "execution_count": null,
      "outputs": []
    },
    {
      "cell_type": "markdown",
      "metadata": {},
      "source": [
        "### Data wrangling\n"
      ],
      "id": "26ada640"
    },
    {
      "cell_type": "code",
      "metadata": {},
      "source": [
        "edges = []\n",
        "\n",
        "for key in data.keys():\n",
        "  value = data[key]\n",
        "  for _ in value:\n",
        "    edges.append([key, _])"
      ],
      "id": "5573882e",
      "execution_count": null,
      "outputs": []
    },
    {
      "cell_type": "markdown",
      "metadata": {},
      "source": [
        "## Key features of the network\n",
        "\n",
        "## Projection of the two-mode network\n",
        "\n",
        "### Projection with respect to songs\n",
        "\n",
        "#### Bare-bone, NumPy projection\n",
        "\n",
        "\n",
        "#### NetworkX projection\n",
        "\n",
        "### Projection with respect to users\n",
        "\n",
        "## Relational similarity analysis\n",
        "\n",
        "### Similarity between users based on common likes\n",
        "\n",
        "\n",
        "### Similarity between songs based on co-holding of likers"
      ],
      "id": "66853bae"
    }
  ],
  "metadata": {
    "kernelspec": {
      "name": "python3",
      "language": "python",
      "display_name": "Python 3 (ipykernel)",
      "path": "/home/simone/.local/share/jupyter/kernels/python3"
    }
  },
  "nbformat": 4,
  "nbformat_minor": 5
}