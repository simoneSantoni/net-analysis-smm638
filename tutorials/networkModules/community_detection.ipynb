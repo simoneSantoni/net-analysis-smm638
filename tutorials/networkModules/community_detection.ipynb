{
  "cells": [
    {
      "cell_type": "markdown",
      "metadata": {},
      "source": [
        "# Community Detection\n",
        "\n",
        "Simone Santoni  \n",
        "2024-11-26\n",
        "\n",
        "This notebook shows communities in a network — that is, groups of nodes\n",
        "densely connected to each others and sparsely connected with outgroup\n",
        "nodes. Specifically, the attention revolves around two popular community\n",
        "detection algorithms like Girvan-Newman and Louvain’s.\n",
        "\n",
        "# Notebook setup\n",
        "\n",
        "For this tutorial, we rely on ‘usual suspects’ Python packages, like\n",
        "`numpy`, `matplotlib`, and `networkx`. The latter is the most popular\n",
        "Python package for the creation, manipulation, and study of the\n",
        "structure small to moderate size networks."
      ],
      "id": "d19f1541-645e-4239-9310-98550c148087"
    },
    {
      "cell_type": "code",
      "execution_count": 1,
      "metadata": {},
      "outputs": [],
      "source": [
        "import numpy as np\n",
        "import matplotlib.pyplot as plt\n",
        "import networkx as nx"
      ],
      "id": "f0f92e19"
    },
    {
      "cell_type": "markdown",
      "metadata": {},
      "source": [
        "# Load Karate Club network\n",
        "\n",
        "The Karate Club dataset is a well-known social network dataset\n",
        "representing the friendships between 34 members of a karate club at a US\n",
        "university in the 1970s[1]. The network consists of 34 nodes and 78\n",
        "edges, where nodes represent members and edges represent friendships.\n",
        "The dataset is often used for testing community detection algorithms, as\n",
        "it naturally splits into two communities due to a conflict between the\n",
        "club’s instructor and the administrator, leading to the formation of two\n",
        "separate clubs.\n",
        "\n",
        "[1] Zachary, W. W. (1977). An information flow model for conflict and\n",
        "fission in small groups. Journal of anthropological research, 33(4),\n",
        "452-473. doi:10.1086/jar.33.4.3629752"
      ],
      "id": "f14cd56b-70fc-496c-9cb4-2a5ea724e67b"
    },
    {
      "cell_type": "code",
      "execution_count": 2,
      "metadata": {},
      "outputs": [],
      "source": [
        "G = nx.karate_club_graph()"
      ],
      "id": "dc1ab810"
    },
    {
      "cell_type": "markdown",
      "metadata": {},
      "source": [
        "# Visualize the network\n",
        "\n",
        "The visual inspection of the network (see\n",
        "<a href=\"#fig-karate-club\" class=\"quarto-xref\">Figure 1</a>) reveals two\n",
        "distinct groups of nodes that may correspond to two communities, i.e.,\n",
        "groups of nodes that are more densely connected to each other than to\n",
        "nodes outside the group. Communities often represent functional units\n",
        "within the network, such as groups of friends in a social network,\n",
        "modules in a biological network, or clusters of related documents in an\n",
        "information network. However, we need to produce conclusive evidence\n",
        "that these groups are indeed communities."
      ],
      "id": "be7fdbd5-8b93-4f4c-a473-6f59cdd968be"
    },
    {
      "cell_type": "code",
      "execution_count": 3,
      "metadata": {
        "fig-width": 500
      },
      "outputs": [
        {
          "output_type": "display_data",
          "metadata": {},
          "data": {}
        }
      ],
      "source": [
        "# fix node positions for better visualization\n",
        "pos = nx.spring_layout(G, seed=123)\n",
        "# draw the network\n",
        "nx.draw(\n",
        "    G, pos, with_labels=True, node_color=\"lightgray\", node_size=300, edge_color=\"gray\"\n",
        ")"
      ],
      "id": "cell-fig-karate-club"
    },
    {
      "cell_type": "markdown",
      "metadata": {},
      "source": [
        "# Community detection using Girvan-Newman’s algorithm\n",
        "\n",
        "`networkx` provides an implementation of the Girvan-Newman[1] algorithm,\n",
        "which is a hierarchical clustering method based on edge betweenness\n",
        "centrality. The algorithm iteratively removes the edge with the highest\n",
        "betweenness centrality, recalculates the centrality of the remaining\n",
        "edges, and identifies the connected components of the graph. The process\n",
        "continues until the desired number of communities is reached.\n",
        "\n",
        "Let us consider the first iteration of the Girvan-Newman algorithm,\n",
        "which consists of computing edge betweenness centrality. In\n",
        "<a href=\"#fig-karate-club-betweenness\" class=\"quarto-xref\">Figure 2</a>),\n",
        "the edges are color-coded against their betweenness centrality values,\n",
        "with warmer colors indicating higher centrality.\n",
        "\n",
        "[1] Girvan, M., & Newman, M. E. J. (2002). Community structure in social\n",
        "and biological networks. Proceedings of the National Academy of\n",
        "Sciences, 99(12), 7821-7826. doi:10.1073/pnas.122653799"
      ],
      "id": "32c3e43b-5f9e-4d85-abf7-a518383e5a73"
    },
    {
      "cell_type": "code",
      "execution_count": 4,
      "metadata": {
        "fig-width": 500
      },
      "outputs": [
        {
          "output_type": "display_data",
          "metadata": {},
          "data": {}
        }
      ],
      "source": [
        "# edge betweenness centrality\n",
        "edge_betweenness = nx.edge_betweenness_centrality(G)\n",
        "# network visualization\n",
        "nx.draw(\n",
        "    G,\n",
        "    pos,\n",
        "    with_labels=True,\n",
        "    node_color=\"lightgray\",\n",
        "    node_size=300,\n",
        "    edgelist=edge_betweenness.keys(),\n",
        "    edge_color=list(edge_betweenness.values()),\n",
        "    edge_cmap=plt.cm.Reds,\n",
        "    edge_vmin=0,\n",
        "    edge_vmax=0.1,\n",
        ")"
      ],
      "id": "cell-fig-karate-club-betweenness"
    },
    {
      "cell_type": "markdown",
      "metadata": {},
      "source": [
        "The visual inspection of edge betweenness centrality suggests that the\n",
        "edge connecting nodes `0` and `31` has the highest centrality. We can\n",
        "check this by sorting the edges by centrality and examining the top five\n",
        "edges."
      ],
      "id": "d3b1e6e6-fbf9-41fd-b29f-2871c5fdf94b"
    },
    {
      "cell_type": "code",
      "execution_count": 5,
      "metadata": {},
      "outputs": [
        {
          "output_type": "stream",
          "name": "stdout",
          "text": [
            "[((0, 31), 0.1272599949070537), ((0, 6), 0.07813428401663695), ((0, 5), 0.07813428401663694), ((0, 2), 0.0777876807288572), ((0, 8), 0.07423959482783014)]"
          ]
        }
      ],
      "source": [
        "edge_betweenness_sorted = sorted(edge_betweenness.items(), key=lambda x: x[1], reverse=True)\n",
        "print(edge_betweenness_sorted[:5])"
      ],
      "id": "b713c1bf"
    },
    {
      "cell_type": "markdown",
      "metadata": {},
      "source": [
        "The second step consists of removing the `0-31` and recalculating the\n",
        "centrality of the remaining edges. It is straight-forward that `G` will\n",
        "still be connected. In other words, we will not be able to see the two\n",
        "groups of nodes that get disconnected because of the removal one\n",
        "specific edge. Therefore, we will not have identified any partitioning\n",
        "of the network, that is, community structure. The process is repeated\n",
        "until the network breaks down into two connected components least."
      ],
      "id": "3075d8f8-71b9-4b70-beb3-6592632d31b4"
    },
    {
      "cell_type": "code",
      "execution_count": 6,
      "metadata": {},
      "outputs": [
        {
          "output_type": "stream",
          "name": "stdout",
          "text": [
            "[((0, 2), 0.11924273983097515), ((0, 8), 0.09923105217222859), ((2, 32), 0.08791752909399968), ((13, 33), 0.08660576895871015), ((0, 5), 0.07813428401663694)]\n",
            "True"
          ]
        }
      ],
      "source": [
        "# remove edge 0-31\n",
        "G.remove_edge(0, 31)\n",
        "# recalculate edge betweenness centrality\n",
        "edge_betweenness = nx.edge_betweenness_centrality(G)\n",
        "# inspect the first 5 edges by centrality\n",
        "edge_betweenness_sorted = sorted(edge_betweenness.items(), key=lambda x: x[1], reverse=True)\n",
        "print(edge_betweenness_sorted[:5])\n",
        "# double check that the graph is still connected\n",
        "print(nx.is_connected(G))"
      ],
      "id": "418b7ce6"
    },
    {
      "cell_type": "markdown",
      "metadata": {},
      "source": [
        "<a href=\"#fig-karate-club-removed-edge\" class=\"quarto-xref\">Figure 3</a>\n",
        "visualizes the network after removing the edge `0-31`. The two\n",
        "communities are clearly visible, with nodes `0` and `31` belonging to\n",
        "different groups."
      ],
      "id": "c14c285e-c44c-46f7-a9c8-d1e7b8d00ccc"
    },
    {
      "cell_type": "code",
      "execution_count": 7,
      "metadata": {},
      "outputs": [
        {
          "output_type": "display_data",
          "metadata": {},
          "data": {}
        }
      ],
      "source": [
        "nx.draw(\n",
        "    G,\n",
        "    pos,\n",
        "    with_labels=True,\n",
        "    node_color=\"lightgray\",\n",
        "    node_size=300,\n",
        "    edgelist=edge_betweenness.keys(),\n",
        "    edge_color=list(edge_betweenness.values()),\n",
        "    edge_cmap=plt.cm.Reds,\n",
        "    edge_vmin=0,\n",
        "    edge_vmax=0.1,\n",
        ")"
      ],
      "id": "cell-fig-karate-club-removed-edge"
    },
    {
      "cell_type": "markdown",
      "metadata": {},
      "source": [
        "The intuition behind the Girvan-Newman algorithm is that edges\n",
        "connecting different communities have higher betweenness centrality, as\n",
        "they are crucial for connecting the communities. By iteratively removing\n",
        "these edges, the algorithm effectively identifies the communities in the\n",
        "network. For example,\n",
        "<a href=\"#fig-karate-club-removed-edge\" class=\"quarto-xref\">Figure 3</a>\n",
        "shows the `G` is at risk to get disconnected if edges like `0-2`, `0-8`,\n",
        "and `19-33` are removed.\n",
        "\n",
        "Luckily, `networkx` provides a convenient function\n",
        "`community.girvan_newman` to automate the process of community detection\n",
        "using the Girvan-Newman algorithm. The function returns an iterator over\n",
        "the discovered communities, allowing us to stop the algorithm at a\n",
        "specific number of communities. Let us apply the Girvan-Newman algorithm\n",
        "to the Karate Club network and visualize the communities."
      ],
      "id": "550de478-ba12-4947-951e-f10e6e16d3e4"
    },
    {
      "cell_type": "code",
      "execution_count": 8,
      "metadata": {},
      "outputs": [
        {
          "output_type": "display_data",
          "metadata": {},
          "data": {
            "text/plain": [
              "([0, 1, 3, 4, 5, 6, 7, 10, 11, 12, 13, 16, 17, 19, 21],\n",
              " [2, 8, 9, 14, 15, 18, 20, 22, 23, 24, 25, 26, 27, 28, 29, 30, 31, 32, 33])"
            ]
          }
        }
      ],
      "source": [
        "# we must re-add the edge 0-31 to the graph\n",
        "G.add_edge(0, 31)\n",
        "# Girvan-Newman algorithm\n",
        "fit = nx.community.girvan_newman(G)\n",
        "tuple(sorted(c) for c in next(fit))"
      ],
      "id": "ff53a18e"
    },
    {
      "cell_type": "markdown",
      "metadata": {},
      "source": [
        "By default, the Girvan-Newman algorithm stops when the graph is\n",
        "partitioned into two communities. However, we can specify the desired\n",
        "number of communities by stopping the algorithm at a specific level. For\n",
        "example, we can stop the algorithm at the third level to obtain three\n",
        "communities."
      ],
      "id": "4cde9adf-fc64-481f-b043-9a0ec84ab230"
    },
    {
      "cell_type": "code",
      "execution_count": 9,
      "metadata": {},
      "outputs": [
        {
          "output_type": "stream",
          "name": "stdout",
          "text": [
            "([0, 1, 3, 4, 5, 6, 7, 10, 11, 12, 13, 16, 17, 19, 21], [2, 8, 9, 14, 15, 18, 20, 22, 23, 24, 25, 26, 27, 28, 29, 30, 31, 32, 33])\n",
            "([0, 1, 3, 4, 5, 6, 7, 10, 11, 12, 13, 16, 17, 19, 21], [2, 8, 14, 15, 18, 20, 22, 23, 24, 25, 26, 27, 28, 29, 30, 31, 32, 33], [9])\n",
            "([0, 1, 3, 7, 11, 12, 13, 17, 19, 21], [2, 8, 14, 15, 18, 20, 22, 23, 24, 25, 26, 27, 28, 29, 30, 31, 32, 33], [4, 5, 6, 10, 16], [9])"
          ]
        }
      ],
      "source": [
        "import itertools\n",
        "k = 4\n",
        "fit = nx.community.girvan_newman(G)\n",
        "limited = itertools.takewhile(lambda c: len(c) <= k, fit)\n",
        "for communities in limited:\n",
        "    print(tuple(sorted(c) for c in communities))"
      ],
      "id": "683d879f"
    },
    {
      "cell_type": "markdown",
      "metadata": {},
      "source": [
        "The visual inspection of Girvan-Newman’s algorithm outcome is a\n",
        "plausible place to start to adjudicate between alternative community\n",
        "structures.[1] Let us start by visualizing the network with two\n",
        "communities (see <a href=\"#fig-karate-club-two-communities\"\n",
        "class=\"quarto-xref\">Figure 4</a>).\n",
        "\n",
        "[1] It is worth noticing that Girvan-Newman’s algorithm is not\n",
        "deterministic, and the results may vary depending on the initial\n",
        "conditions and the order in which edges are removed. Therefore, it is\n",
        "essential to consider multiple runs of the algorithm and compare the\n",
        "results to identify robust communities."
      ],
      "id": "b002186c-69bf-4e10-880d-04c5a201c4d7"
    },
    {
      "cell_type": "code",
      "execution_count": 10,
      "metadata": {
        "fig-width": 500
      },
      "outputs": [
        {
          "output_type": "display_data",
          "metadata": {},
          "data": {}
        }
      ],
      "source": [
        "# fit the Girvan-Newman algorithm\n",
        "fit = nx.community.girvan_newman(G)\n",
        "# we retain the first three partitions of the network\n",
        "k = 4\n",
        "# get the membership of the nodes into communities\n",
        "limited = itertools.takewhile(lambda c: len(c) <= k, fit)\n",
        "fits = {}\n",
        "for _, communities in enumerate(limited):\n",
        "    fits[_] = tuple(sorted(c) for c in communities)\n",
        "# get the membership of the nodes into communities\n",
        "two_communities = fits[0]\n",
        "# color code the communities\n",
        "colors = [\"plum\" if node in two_communities[0] else \"lightgreen\" for node in G.nodes]\n",
        "# visualize the network\n",
        "nx.draw(\n",
        "    G,\n",
        "    pos,\n",
        "    with_labels=True,\n",
        "    node_color=colors,\n",
        "    node_size=300,\n",
        "    edge_color=\"gray\",\n",
        ") "
      ],
      "id": "cell-fig-karate-club-two-communities"
    },
    {
      "cell_type": "markdown",
      "metadata": {},
      "source": [
        "One may point out that the solution in\n",
        "<a href=\"#fig-karate-club-two-communities\"\n",
        "class=\"quarto-xref\">Figure 4</a> presents a clear-cut division of the\n",
        "network into two communities. However, the division is not perfect, as\n",
        "some nodes are on the boundary between the two communities (see for\n",
        "example nodes `2` and `13`). This is a common issue in community\n",
        "detection, as nodes can have multiple connections to different\n",
        "communities. The Girvan-Newman algorithm is a divisive method that\n",
        "partitions the network into communities by removing edges, which may\n",
        "lead to suboptimal results.\n",
        "\n",
        "The presence of boarder nodes is not the most concerning issue in this\n",
        "case, though. The lower-left section of\n",
        "<a href=\"#fig-karate-club-two-communities\"\n",
        "class=\"quarto-xref\">Figure 4</a> indicates the presence of a group of\n",
        "nodes that are densely connected to each other but are not clearly part\n",
        "of the two main communities. Let us visualize the network with three\n",
        "communities to investigate this further."
      ],
      "id": "2266d352-86e7-44dc-9490-f64d238a375a"
    },
    {
      "cell_type": "code",
      "execution_count": 11,
      "metadata": {
        "fig-width": 500
      },
      "outputs": [
        {
          "output_type": "display_data",
          "metadata": {},
          "data": {}
        }
      ],
      "source": [
        "# color code the communities\n",
        "three_communities = fits[1]\n",
        "# print(three_communities)\n",
        "colors = [\n",
        "    (\n",
        "        \"plum\" if node in three_communities[0]\n",
        "        else \"lightgreen\" if node in three_communities[1]\n",
        "        else \"lightblue\"\n",
        "    )\n",
        "    for node in G.nodes\n",
        "]\n",
        "# visualize the network\n",
        "nx.draw(\n",
        "    G,\n",
        "    pos,\n",
        "    with_labels=True,\n",
        "    node_color=colors,\n",
        "    node_size=300,\n",
        "    edge_color=\"gray\",\n",
        ")"
      ],
      "id": "cell-fig-karate-club-three-communities"
    },
    {
      "cell_type": "markdown",
      "metadata": {},
      "source": [
        "The three-community structure does not yield the expected representation\n",
        "of the network (in which nodes `4`, `5`, `6`, `10`, and `16` form their\n",
        "own community). Instead, it is node `9`, a ‘boarder’ node, that gets\n",
        "assigned to the third community. In light of this unsatisfactory\n",
        "solution, one may want to render and visualize the four-community\n",
        "structure (see <a href=\"#fig-karate-club-four-communities\"\n",
        "class=\"quarto-xref\">Figure 6</a>)."
      ],
      "id": "cde1408c-9e49-4657-9047-594e12bd621a"
    },
    {
      "cell_type": "code",
      "execution_count": 12,
      "metadata": {
        "fig-width": 500
      },
      "outputs": [
        {
          "output_type": "display_data",
          "metadata": {},
          "data": {}
        }
      ],
      "source": [
        "# color code the communities\n",
        "four_communities = fits[2]\n",
        "# print(three_communities)\n",
        "colors = [\n",
        "    (\n",
        "        \"plum\" if node in four_communities[0]\n",
        "        else \"lightgreen\" if node in four_communities[1]\n",
        "        else \"orange\" if node in four_communities[2]\n",
        "        else \"lightblue\"\n",
        "    )\n",
        "    for node in G.nodes\n",
        "]\n",
        "# visualize the network\n",
        "nx.draw(\n",
        "    G,\n",
        "    pos,\n",
        "    with_labels=True,\n",
        "    node_color=colors,\n",
        "    node_size=300,\n",
        "    edge_color=\"gray\",\n",
        ")"
      ],
      "id": "cell-fig-karate-club-four-communities"
    },
    {
      "cell_type": "markdown",
      "metadata": {},
      "source": [
        "# Community detection using Louvaine’s algorithm\n",
        "\n",
        "The Louvain community detection algorithm[1] is a popular method for\n",
        "identifying communities in large networks. It is an iterative,\n",
        "modularity-based algorithm that optimizes the modularity of a partition\n",
        "of the network[2]. Modularity is a measure of the density of links\n",
        "inside communities compared to links between communities.\n",
        "\n",
        "The algorithm operates in two main phases that are repeated iteratively.\n",
        "In the first phase, each node is assigned to its own community. Then,\n",
        "for each node, the algorithm considers moving it to the community of\n",
        "each of its neighbors, choosing the move that results in the highest\n",
        "increase (or smallest decrease) in modularity. This process is repeated\n",
        "for all nodes until no further improvement can be achieved.\n",
        "\n",
        "In the second phase, the algorithm aggregates nodes belonging to the\n",
        "same community into a single node, creating a new, smaller network.\n",
        "Edges between the new nodes are weighted by the sum of the weights of\n",
        "the edges between the original nodes in the corresponding communities.\n",
        "The first phase is then reapplied to this new network.\n",
        "\n",
        "These two phases are repeated iteratively until the modularity no longer\n",
        "increases significantly. The result is a hierarchical decomposition of\n",
        "the network into communities, which can be represented at different\n",
        "levels of granularity. The Louvain algorithm is efficient and can handle\n",
        "large networks, making it widely used in various applications, including\n",
        "social network analysis, biology, and information retrieval.\n",
        "\n",
        "Let us consider an example of applying the Louvain algorithm to the\n",
        "Karate Club network. The `community` module in `networkx` provides an\n",
        "implementation of the Louvain algorithm, which we can use to detect\n",
        "communities in the network.\n",
        "\n",
        "[1] Blondel, V. D., Guillaume, J. L., Lambiotte, R., & Lefebvre, E.\n",
        "(2008). Fast unfolding of communities in large networks. Journal of\n",
        "Statistical Mechanics: Theory and Experiment, 2008(10), P10008.\n",
        "doi:10.1088/1742-5468/2008/10/P10008\n",
        "\n",
        "[2] Nicolas Dugué, Anthony Perez. Directed Louvain : maximizing\n",
        "modularity in directed networks. \\[Research Report\\] Université\n",
        "d’Orléans. 2015. hal-01231784.\n",
        "https://hal.archives-ouvertes.fr/hal-01231784"
      ],
      "id": "fd6968e4-75bd-4ea0-9a57-a2d488547fe2"
    },
    {
      "cell_type": "code",
      "execution_count": 13,
      "metadata": {},
      "outputs": [
        {
          "output_type": "stream",
          "name": "stdout",
          "text": [
            "([0, 1, 2, 3, 7, 11, 12, 13, 17, 19, 21], [4, 5, 6, 10, 16], [24, 25, 28, 31], [8, 9, 14, 15, 18, 20, 22, 23, 26, 27, 29, 30, 32, 33])"
          ]
        }
      ],
      "source": [
        "# Louvain algorithm fit\n",
        "fit = nx.community.louvain_communities(G)\n",
        "# retriece the communities\n",
        "communities = tuple(sorted(c) for c in fit)\n",
        "print(communities)"
      ],
      "id": "998b7ebf"
    },
    {
      "cell_type": "markdown",
      "metadata": {},
      "source": [
        "The community structure solution that maximizes the modularity criterion\n",
        "comprisese the following communities: `0, 1, 2, 3, 7, 13, 17, 19, 21`\n",
        "and `4, 5, 6, 10, 16` and\n",
        "`8, 9, 11, 12, 14, 15, 18, 20, 22, 23, 24, 25, 26, 27, 28, 29, 30, 31, 32, 33`.\n",
        "The following <a href=\"#fig-karate-club-louvain-communities\"\n",
        "class=\"quarto-xref\">Figure 7</a> visualize the network with the\n",
        "identified communities."
      ],
      "id": "4db8bd27-dda2-49ad-ad8a-5947cb69db2e"
    },
    {
      "cell_type": "code",
      "execution_count": 14,
      "metadata": {
        "fig-width": 500
      },
      "outputs": [
        {
          "output_type": "display_data",
          "metadata": {},
          "data": {}
        }
      ],
      "source": [
        "colors = [\n",
        "    (\n",
        "        \"plum\" if node in communities[0]\n",
        "        else \"lightgreen\" if node in communities[1]\n",
        "        else \"lightblue\"\n",
        "    )\n",
        "    for node in G.nodes\n",
        "]\n",
        "# visualize the network\n",
        "nx.draw(\n",
        "    G,\n",
        "    pos,\n",
        "    with_labels=True,\n",
        "    node_color=colors,\n",
        "    node_size=300,\n",
        "    edge_color=\"gray\",\n",
        ")"
      ],
      "id": "cell-fig-karate-club-louvain-communities"
    },
    {
      "cell_type": "markdown",
      "metadata": {},
      "source": [
        "The Louvain algorithm is not only capable to isolate the most plausible\n",
        "community structure in a network. It can also handle weighted networks.\n",
        "Let us consider the case of a weighted Karate Club network, where the\n",
        "edge weights represent the strength of the friendship between members\n",
        "(see\n",
        "<a href=\"#fig-karate-club-weighted\" class=\"quarto-xref\">Figure 8</a>).\n",
        "The following code snippet shows how to create a weighted version of the\n",
        "Karate Club network and apply the Louvain algorithm to detect\n",
        "communities."
      ],
      "id": "f1fd3d28-6d40-4ac9-92b7-2d8efa69e3a6"
    },
    {
      "cell_type": "code",
      "execution_count": 15,
      "metadata": {
        "fig-width": 500
      },
      "outputs": [
        {
          "output_type": "display_data",
          "metadata": {},
          "data": {}
        }
      ],
      "source": [
        "# weighted Karate Club network\n",
        "G_weighted = nx.karate_club_graph()\n",
        "# assign random weights to the edges\n",
        "import numpy as np\n",
        "for u, v in G_weighted.edges:\n",
        "    G_weighted[u][v][\"weight\"] = np.random.random_integers(1, 10)\n",
        "# visualize the weighted network\n",
        "nx.draw(\n",
        "    G_weighted,\n",
        "    pos,\n",
        "    with_labels=True,\n",
        "    node_color=\"lightgray\",\n",
        "    node_size=300,\n",
        "    edge_color=[G_weighted[u][v][\"weight\"] for u, v in G_weighted.edges],\n",
        "    edge_cmap=plt.cm.Greens,\n",
        "    edge_vmin=0,\n",
        "    edge_vmax=10,\n",
        ")"
      ],
      "id": "cell-fig-karate-club-weighted"
    },
    {
      "cell_type": "markdown",
      "metadata": {},
      "source": [
        "Then, we fit the Louvain algorithm to the weighted network and visualize\n",
        "the communities — see\n",
        "<a href=\"#fig-karate-club-louvain-communities-weighted\"\n",
        "class=\"quarto-xref\">Figure 9</a>."
      ],
      "id": "1f87c8e9-c964-443d-9e76-c6da7544594c"
    },
    {
      "cell_type": "code",
      "execution_count": 16,
      "metadata": {
        "fig-width": 500
      },
      "outputs": [
        {
          "output_type": "display_data",
          "metadata": {},
          "data": {}
        }
      ],
      "source": [
        "# fit the Louvain algorithm to the weighted network\n",
        "fit = nx.community.louvain_communities(G_weighted, weight=\"weight\")\n",
        "# retrieve the communities\n",
        "communities = tuple(sorted(c) for c in fit)\n",
        "# visualize the network with the identified communities\n",
        "colors = [\n",
        "    (\n",
        "        \"plum\" if node in communities[0]\n",
        "        else \"lightgreen\" if node in communities[1]\n",
        "        else \"lightblue\"\n",
        "    )\n",
        "    for node in G_weighted.nodes\n",
        "]\n",
        "# visualize the network\n",
        "nx.draw(\n",
        "    G_weighted,\n",
        "    pos,\n",
        "    with_labels=True,\n",
        "    node_color=colors,\n",
        "    node_size=300,\n",
        "    edge_color=[G_weighted[u][v][\"weight\"] for u, v in G_weighted.edges],\n",
        "    edge_cmap=plt.cm.Greens,\n",
        "    edge_vmin=0,\n",
        "    edge_vmax=10,\n",
        ")"
      ],
      "id": "cell-fig-karate-club-louvain-communities-weighted"
    },
    {
      "cell_type": "markdown",
      "metadata": {},
      "source": [
        "Considering the weighted network, the Louvain algorithm yields some\n",
        "notable results:\n",
        "\n",
        "-   The strong ties between nodes `0`, `4`m, and `10` make nodes `0` and\n",
        "    `4` part of the same community, despite the redundant ties to nodes\n",
        "    `5`, `6` and `15` (compare\n",
        "    <a href=\"#fig-karate-club-louvain-communities\"\n",
        "    class=\"quarto-xref\">Figure 7</a> and\n",
        "    <a href=\"#fig-karate-club-louvain-communities-weighted\"\n",
        "    class=\"quarto-xref\">Figure 9</a>)\n",
        "-   Nodes located at the boarder of the communities are more likely to\n",
        "    be assigned to the community with which they share the strongest\n",
        "    ties. For example, node `9` is assigned to the same community as\n",
        "    node `30`; node `19` is assigned to to the same community as node\n",
        "    `3`."
      ],
      "id": "e13766e5-07b2-49fb-bafd-77e4874a3adc"
    }
  ],
  "nbformat": 4,
  "nbformat_minor": 5,
  "metadata": {
    "kernelspec": {
      "name": "python3",
      "display_name": "Python 3 (ipykernel)",
      "language": "python",
      "path": "/home/simone/miniconda3/envs/smm638/share/jupyter/kernels/python3"
    }
  }
}