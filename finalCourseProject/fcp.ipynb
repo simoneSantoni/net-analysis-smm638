{
  "cells": [
    {
      "cell_type": "markdown",
      "metadata": {},
      "source": [
        "# SMM638 Final Course Project Description\n",
        "\n",
        "Simone Santoni  \n",
        "2024-11-25\n",
        "\n",
        "This notebook illustrates the final course project for the SMM638\n",
        "course. The project is based on the analysis of a dataset regarding the\n",
        "friendship network and genre preferences of Deezer users. The first\n",
        "section of the notebook provides an overview of the project, the second\n",
        "section describes the data, the third section outlines the problem, and\n",
        "the fourth section describes the submission package.\n",
        "\n",
        "# Overview\n",
        "\n",
        "Like other streaming platforms, Deezer contains a wealth of digital\n",
        "traces, which can be used to analyze user behavior, and, therefore, to\n",
        "create or refine products and improve business model execution (e.g., by\n",
        "adopting a recommendation system that help a platform business better\n",
        "engage with audiences).\n",
        "\n",
        "Network analysis methods and tools play a key role when it comes to\n",
        "analyzing digital-traces like the one we have in the Deezer dataset.\n",
        "Particularly, network analysis offers an effective framework within\n",
        "which to appreciate the similarity between entities — being users or the\n",
        "genres they may favorite — and, possibly, cluster these entities into\n",
        "homogenous groups — e.g., users that share similar music genres or\n",
        "genres that are liked by the same users. Let us consider a two-mode (or\n",
        "bipartite) network $X$, where $N$ users are connected to $K$ genres via\n",
        "the ‘like’ relationship:\n",
        "\n",
        "$$\n",
        "X = \n",
        "\\begin{bmatrix}\n",
        "a_{11} & a_{12} & \\cdots & a_{1k} \\\\\n",
        "a_{21} & a_{22} & \\cdots & a_{2k} \\\\\n",
        "\\vdots & \\vdots & \\ddots & \\vdots \\\\\n",
        "a_{n1} & a_{n2} & \\cdots & a_{nk}\n",
        "\\end{bmatrix}\n",
        "$$\n",
        "\n",
        "where $a_{ij}$ is the ‘like’ relationship between user $i$ and genre\n",
        "$j$. The matrix $X$ can be used to create a user-user network $Y$ ($N$ x\n",
        "$N$) and a genre-genre network $Z$ ($K$ x $K$):\n",
        "\n",
        "$$\n",
        "Y = X \\cdot X^T\n",
        "$$\n",
        "\n",
        "$$\n",
        "Z = X^T \\cdot X\n",
        "$$\n",
        "\n",
        "The user-user network $Y$ is a one-mode, non-directed, weighted graph\n",
        "where nodes are users and edges are mutual likes, i.e., the counts of\n",
        "music genres that users $i$ and $j$ share. The genre-genre network $Z$\n",
        "is a one-mode, non-directed, weighted graph where nodes are genres and\n",
        "edges are mutual likers, i.e., the counts of users that like both genres\n",
        "$i$ and $j$. Consider the following example of ‘like’ network, including\n",
        "five users and three music genres:\n",
        "\n",
        "$$\n",
        "X = \n",
        "\\begin{bmatrix}\n",
        "1 & 0 & 1 \\\\\n",
        "1 & 0 & 0 \\\\\n",
        "0 & 0 & 1 \\\\\n",
        "0 & 1 & 1 \\\\\n",
        "0 & 1 & 1 \\\\\n",
        "\\end{bmatrix}\n",
        "$$\n",
        "\n",
        "The user-user network $Y$ ($X \\cdot X^T$) is:\n",
        "\n",
        "$$\n",
        "Y =\n",
        "\\begin{bmatrix}\n",
        "2 & 1 & 1 & 1 & 1\\\\\n",
        "1 & 1 & 0 & 0 & 0\\\\\n",
        "1 & 0 & 1 & 1 & 1\\\\\n",
        "1 & 0 & 1 & 2 & 2\\\\\n",
        "1 & 0 & 1 & 2 & 2\\\\\n",
        "\\end{bmatrix}\n",
        "$$\n",
        "\n",
        "whereas the genre-genre network $Z$ ($X^T \\cdot X$) is:\n",
        "\n",
        "$$\n",
        "Z =\n",
        "\\begin{bmatrix}\n",
        "2 & 1 & 0 \\\\\n",
        "1 & 4 & 3 \\\\\n",
        "0 & 3 & 4 \\\\\n",
        "\\end{bmatrix}\n",
        "$$\n",
        "\n",
        "Both $Y$ and $Z$ can be further analyzed using network analysis tools —\n",
        "e.g., block-modeling — or conventional statistical tools — e.g., cluster\n",
        "analysis – to identify homogenous groups of entities (users and genres\n",
        "for $Y$ and $Z$, respectively).\n",
        "\n",
        "# Data\n",
        "\n",
        "The data for the final course project is stored in the\n",
        "[`data/deezer_clean_data`](https://github.com/simoneSantoni/net-analysis-smm638/tree/master/data/deezer_clean_data)\n",
        "directory of [GitHub repository of\n",
        "SMM638](https://github.com/simoneSantoni/net-analysis-smm638). The data,\n",
        "which were gathered for a network science project,[1] are also available\n",
        "in the website of [Stanford Network Analysis\n",
        "Project](https://snap.stanford.edu/data/gemsec-Deezer.html).\n",
        "\n",
        "Below are some key aspects about the data:\n",
        "\n",
        "-   The data were scraped from Deezer in November 2017\n",
        "-   `**_edges.csv` represent friendships networks of users from 3\n",
        "    European countries, that is, Croatia, Hungary, and Romania. Nodes\n",
        "    represent the users and edges are the mutual friendships[2]\n",
        "-   `**_genres.json` contain the genre preferences of users — each key\n",
        "    is a user identifier, the genres loved are given as lists. Genre\n",
        "    notations are consistent across users. In each dataset users could\n",
        "    like 84 distinct genres. Liked genre lists were compiled based on\n",
        "    the liked song lists\n",
        "\n",
        "## Friendship networks\n",
        "\n",
        "For illustrative purposes, let us inspect the friendship network for the\n",
        "case of Croatia. First, we load `Pandas` and `NetworkX`, then we load\n",
        "the data:\n",
        "\n",
        "[1] Benedek Rozemberczki, Ryan Davies, Rik Sarkar, and Charles Sutton.\n",
        "2018. GEMSEC: Graph Embedding with Self Clustering. arXiv preprint\n",
        "arXiv:1802.03997.\n",
        "\n",
        "[2] The researchers who collected the data say that they have “*…\n",
        "reindexed the nodes in order to achieve a certain level of anonymity*.”"
      ],
      "id": "a2714a93-4013-441b-9146-054e6184be17"
    },
    {
      "cell_type": "code",
      "execution_count": 1,
      "metadata": {},
      "outputs": [
        {
          "output_type": "display_data",
          "metadata": {},
          "data": {
            "text/html": [
              "\n",
              "</div>"
            ]
          }
        }
      ],
      "source": [
        "# load modules\n",
        "import pandas as pd\n",
        "import networkx as nx\n",
        "# load data\n",
        "fr = pd.read_csv('../data/deezer_clean_data/HR_edges.csv')\n",
        "# data preview\n",
        "fr.head()"
      ],
      "id": "5aa5d5c2"
    },
    {
      "cell_type": "markdown",
      "metadata": {},
      "source": [
        "The data preview shows that the friendship network for Croatia is a list\n",
        "of edges, where each edge is a pair of user identifiers. The data can be\n",
        "used to create a network object using `NetworkX`:"
      ],
      "id": "a51df424-a534-45a2-bf97-68c0df548a80"
    },
    {
      "cell_type": "code",
      "execution_count": 2,
      "metadata": {},
      "outputs": [],
      "source": [
        "fr_g = nx.from_pandas_edgelist(fr, source='node_1', target='node_2')\n",
        "fr_g?"
      ],
      "id": "283c8691"
    },
    {
      "cell_type": "markdown",
      "metadata": {},
      "source": [
        "Using code introspection, it is possible to see that the network object\n",
        "`fr_g` is a NetworkX object of type `Graph` and that it has 54,573 nodes\n",
        "and 498,202 edges. To familiarize with the data, we test if `fr_g` is\n",
        "connected:"
      ],
      "id": "e9ee8f10-8469-4579-bc19-5d3f2105f234"
    },
    {
      "cell_type": "code",
      "execution_count": 3,
      "metadata": {},
      "outputs": [
        {
          "output_type": "display_data",
          "metadata": {},
          "data": {
            "text/plain": [
              "True"
            ]
          }
        }
      ],
      "source": [
        "nx.is_connected(fr_g)"
      ],
      "id": "e48d94e8"
    },
    {
      "cell_type": "markdown",
      "metadata": {},
      "source": [
        "Then, we consider the degree distribution of the network:"
      ],
      "id": "4d0ff5a6-3378-4b0f-bc76-b653b211ff0c"
    },
    {
      "cell_type": "code",
      "execution_count": 4,
      "metadata": {},
      "outputs": [
        {
          "output_type": "display_data",
          "metadata": {},
          "data": {}
        }
      ],
      "source": [
        "# import further modules\n",
        "import numpy as np\n",
        "from matplotlib import pyplot as plt\n",
        "from collections import Counter\n",
        "# compute node degree\n",
        "dd = Counter(dict(fr_g.degree()).values())\n",
        "# plot the degree distribution\n",
        "fig = plt.figure(figsize=(4, 3))\n",
        "ax = fig.add_subplot(111)\n",
        "ax.scatter(dd.keys(), dd.values(), color=\"limegreen\", alpha=0.15)\n",
        "ax.set_yscale(\"log\")\n",
        "ax.set_xscale(\"log\")\n",
        "ax.set_xlabel(\"Log(Degree)\")\n",
        "ax.set_ylabel(\"Log(Counts of nodes)\")\n",
        "ax.grid(True, ls=\"--\")\n",
        "plt.show()"
      ],
      "id": "cell-fig-degree-distribution"
    },
    {
      "cell_type": "markdown",
      "metadata": {},
      "source": [
        "It is self-explanatory that the degree distribution of the friendship\n",
        "network for Croatia is right-skewed, which is a common feature of social\n",
        "networks. We can try to getter a better understanding of the network —\n",
        "including the presence and locatio of ‘hub’ users — by visualizing it.\n",
        "Since the network is large, we may benefit from using the visualization\n",
        "capabilities of [`graph-tool`](https://graph-tool.skewed.de/), a Python\n",
        "API wrapping around C++ code, a more efficient alternative to pure\n",
        "Python `NetworkX`:"
      ],
      "id": "ae01e524-341b-4e79-b35b-cf28fcd92abb"
    },
    {
      "cell_type": "code",
      "execution_count": 5,
      "metadata": {},
      "outputs": [
        {
          "output_type": "display_data",
          "metadata": {},
          "data": {}
        }
      ],
      "source": [
        "# import further module\n",
        "from graph_tool.all import *\n",
        "# iterate over the Pandas DataFrame to create the graph and edges to it\n",
        "edges = [(str(u), str(v)) for u, v in fr[['node_1', 'node_2']].values]\n",
        "fer_gt = Graph(edges, hashed=True, directed=False)\n",
        "# plot the network\n",
        "# graph_tool.draw.graph_draw(fer_gt, output_size=(500, 500), output=\"fer_gt.png\")\n",
        "# load image\n",
        "from IPython.display import Image\n",
        "Image(filename='fer_gt.png')"
      ],
      "id": "cell-fig-fr-gt"
    },
    {
      "cell_type": "markdown",
      "metadata": {},
      "source": [
        "It is worth noticing the friendship network presents a periphery of\n",
        "users with low degree and, plausibly, a core of users with high degree.\n",
        "However, the figure does not provide a clear picture of the core of the\n",
        "network, which deserves further investigation.\n",
        "\n",
        "## Music genre preferences\n",
        "\n",
        "Building on the previous sub-section, we consider the preferences of\n",
        "users as per `HR_genres.json` files. These files are JSON files, which\n",
        "can be loaded using the `json` module:"
      ],
      "id": "d374feab-8642-40a0-92af-292c45842ac0"
    },
    {
      "cell_type": "code",
      "execution_count": 6,
      "metadata": {},
      "outputs": [
        {
          "output_type": "display_data",
          "metadata": {},
          "data": {
            "text/plain": [
              "['Indie Rock',\n",
              " 'Indie Pop/Folk',\n",
              " 'International Pop',\n",
              " 'Rap/Hip Hop',\n",
              " 'Pop',\n",
              " 'Rock',\n",
              " 'Indie Pop',\n",
              " 'Alternative']"
            ]
          }
        }
      ],
      "source": [
        "import json\n",
        "with open('../data/deezer_clean_data/HR_genres.json', 'r') as f:\n",
        "    pr_json = json.load(f)\n",
        "pr_json[\"11542\"]"
      ],
      "id": "bbd2445e"
    },
    {
      "cell_type": "markdown",
      "metadata": {},
      "source": [
        "At this stage, we have a dictionary where each key is a user identifier\n",
        "and the corresponding value is a list of genres that the user likes. For\n",
        "example, above is the list of music genres that user `11542` likes. We\n",
        "can convert the dictionary into a `Pandas` DataFrame drawing upon\n",
        "Pandas’ `json_normalize` function:"
      ],
      "id": "1b0ed508-6b36-4af8-bf69-86abb726d3d5"
    },
    {
      "cell_type": "code",
      "execution_count": 7,
      "metadata": {},
      "outputs": [
        {
          "output_type": "display_data",
          "metadata": {},
          "data": {
            "text/html": [
              "\n",
              "</div>"
            ]
          }
        }
      ],
      "source": [
        "pr = pd.json_normalize(pr_json).T\n",
        "pr.rename({0: 'genres'}, axis=1, inplace=True)\n",
        "pr.head()"
      ],
      "id": "a815d262"
    },
    {
      "cell_type": "markdown",
      "metadata": {},
      "source": [
        "The data preview shows that the DataFrame `pr` has a single column,\n",
        "`genres`, which contains lists of genres that users like. To make the\n",
        "data more amenable to analysis, we can explode the lists of genres into\n",
        "separate rows drawing upon Pandas’ `explode` function:"
      ],
      "id": "35941284-74e9-4c02-bfa9-2d646850abf7"
    },
    {
      "cell_type": "code",
      "execution_count": 8,
      "metadata": {},
      "outputs": [
        {
          "output_type": "display_data",
          "metadata": {},
          "data": {
            "text/html": [
              "\n",
              "</div>"
            ]
          }
        }
      ],
      "source": [
        "pr = pr.explode('genres')\n",
        "pr.reset_index(inplace=True)\n",
        "pr.rename({'index': 'user_id'}, axis=1, inplace=True)\n",
        "pr.head()"
      ],
      "id": "cc485449"
    },
    {
      "cell_type": "markdown",
      "metadata": {},
      "source": [
        "For illustrative purposes, we can consider the distribution of genres\n",
        "liked by users in the dataset:"
      ],
      "id": "20dd9cd1-a9d6-426a-833b-a385e46fc1fd"
    },
    {
      "cell_type": "code",
      "execution_count": 9,
      "metadata": {},
      "outputs": [
        {
          "output_type": "display_data",
          "metadata": {},
          "data": {}
        }
      ],
      "source": [
        "genres = Counter(pr.groupby('genres').size())\n",
        "fig = plt.figure(figsize=(6, 3))\n",
        "ax = fig.add_subplot(111)\n",
        "ax.hist(genres.keys(), color=\"magenta\", alpha=0.5)\n",
        "ax.set_xticklabels([\"{:,}\".format(int(x)) for x in ax.get_xticks()])\n",
        "ax.set_xlabel(\"Degree -- number of likers\")\n",
        "ax.set_ylabel(\"Counts of music genres\")\n",
        "ax.grid(True, ls=\"--\")\n",
        "plt.show()"
      ],
      "id": "cell-fig-genres-distribution"
    },
    {
      "cell_type": "markdown",
      "metadata": {},
      "source": [
        "The degree distribution of music genres liked by users is right-skewed,\n",
        "meaning there are few genres that are liked by many users and many\n",
        "genres that are liked by few users.\n",
        "\n",
        "# Problem description\n",
        "\n",
        "Your employer is a consultancy firm that has been hired by ‘Sonic,’ a\n",
        "major music label, to better understand the categories that compose the\n",
        "music market. The [artists and\n",
        "repertoire](https://en.wikipedia.org/wiki/Artists_and_repertoire) roles\n",
        "at Sonic have struggled to make sense of the association between the\n",
        "‘music genre’ tags (e.g., ‘International Pop’) in Deezer and similar\n",
        "services. Some think that these tags are sometimes redundant. In other\n",
        "circumstances, they are unclear or meaningless. Therefore, it is hard\n",
        "for Sonic to see clear targets in the market, and, consequently,\n",
        "correctly position new albums and musicians against consumer\n",
        "preferences. Sonic wants a map of the categories that form the music\n",
        "market. This map must be based on some digital traces – i.e., behavioral\n",
        "data – , easy to interpret, and well-grounded in demonstrable data\n",
        "patterns.\n",
        "\n",
        "To help Sonic address its business problem, you have been asked to\n",
        "analyze the ‘Croatia’ dataset, briefly described in the previous\n",
        "section. You are expected to use network analytic methods and tools to:\n",
        "\n",
        "1.  Assess the similarity between Deezer music genres\n",
        "2.  Identify homogenous groups of Deezer music genres\n",
        "3.  Highlight how social ties among users influence the similarity\n",
        "    between music genres\n",
        "\n",
        "# Submission package\n",
        "\n",
        "The submission package consists of:\n",
        "\n",
        "-   A report that includes:\n",
        "    -   The description of the workflow you have followed to address the\n",
        "        problem (300 words MAX)\n",
        "    -   The results of your analysis, comprising text (300 words MAX)\n",
        "        and exhibits (five among figures and tables MAX)\n",
        "    -   The interpretation of the results in light of the business\n",
        "        problem (300 words MAX)\n",
        "-   The computer code that allows me to fully reproduce your charts\n",
        "    (being, R, Python, Julia, Rust, C++, Java, etc.). The code should be\n",
        "    well-commented and easy to read. Non-reproducible exhibits will not\n",
        "    be graded."
      ],
      "id": "2c4a5fb1-1575-4e77-a4a3-7d093ba9e7d4"
    }
  ],
  "nbformat": 4,
  "nbformat_minor": 5,
  "metadata": {
    "kernelspec": {
      "name": "python3",
      "display_name": "Python 3 (ipykernel)",
      "language": "python",
      "path": "/home/simone/miniconda3/envs/smm638/share/jupyter/kernels/python3"
    }
  }
}